{
 "cells": [
  {
   "cell_type": "markdown",
   "metadata": {
    "deletable": true,
    "editable": true
   },
   "source": [
    "# KRAKEN DATA experiment\n",
    "\n",
    "Objectif: Explorateur d'analogies entre ressource et de connexions entre réservoirs sémantiques pour de l'aide à la décision sans connaissance prélable des référentiels et des prédicats.    "
   ]
  },
  {
   "cell_type": "markdown",
   "metadata": {
    "deletable": true,
    "editable": true
   },
   "source": [
    "## Déterminer les **caractéristiques** d'une ressource (uri) à partir de son uri et de l'ensemble de ses prédicats\n",
    "    \n",
    "Lister tout ce qu'on sait pour une ressource donnée:\n",
    "    \n",
    "* Vérifier qu'il s'agit d'une resource et qu'elle est disponible dans le datastore principal\n",
    "* Stocker l'ensemble de ces prédicats\n",
    "* Vérifier que cette ressource est disponible dans d'autres datastore\n",
    "* Stocker l'ensemble de ces prédicats pour chaque datastore\n",
    "(liste des endpoints https://www.w3.org/wiki/SparqlEndpoints)\n",
    "    \n",
    "=> Quelles sont les composantes principales de cette ressource?"
   ]
  },
  {
   "cell_type": "code",
   "execution_count": 26,
   "metadata": {
    "collapsed": true,
    "deletable": true,
    "editable": true
   },
   "outputs": [],
   "source": [
    "from SPARQLWrapper import SPARQLWrapper, JSON"
   ]
  },
  {
   "cell_type": "code",
   "execution_count": 22,
   "metadata": {
    "collapsed": false,
    "deletable": true,
    "editable": true
   },
   "outputs": [],
   "source": [
    "def build_resource(resource=\"Jacques Tati\", endpoint=\"http://dbpedia.org/sparql\"):\n",
    "    '''build the ressource uri given the endpoint'''\n",
    "    resource = \"_\".join([n.title() for n in resource.split(\" \")])\n",
    "    resource_ds = \"/\".join(endpoint.split(\"/\")[:-1])+\"/resource/\"\n",
    "    resource_uri = resource_ds+resource\n",
    "    return resource_uri\n",
    "\n",
    "\n"
   ]
  },
  {
   "cell_type": "code",
   "execution_count": 23,
   "metadata": {
    "collapsed": true,
    "deletable": true,
    "editable": true
   },
   "outputs": [],
   "source": [
    "def describe_resource(resource_uri, endpoint):\n",
    "    '''verify that the resource exists and available in selected datastore'''\n",
    "    q = \"DESCRIBE <%s>\" % resource_uri\n",
    "    sparql = SPARQLWrapper(endpoint)\n",
    "    sparql.setQuery(q)\n",
    "    sparql.setReturnFormat(JSON)\n",
    "    results = sparql.query().convert()\n",
    "    nb_results = len(results[\"results\"][\"bindings\"])\n",
    "    if nb_results != 0:\n",
    "        return False\n",
    "    else:\n",
    "        for r in results[\"results\"][\"bindings\"]:\n",
    "            subj, predicate, obj = r[\"s\"][\"value\"], r[\"p\"][\"value\"], r[\"o\"][\"value\"]\n",
    "            \n",
    "    "
   ]
  },
  {
   "cell_type": "code",
   "execution_count": null,
   "metadata": {
    "collapsed": true
   },
   "outputs": [],
   "source": []
  },
  {
   "cell_type": "code",
   "execution_count": 27,
   "metadata": {
    "collapsed": false,
    "deletable": true,
    "editable": true
   },
   "outputs": [
    {
     "name": "stdout",
     "output_type": "stream",
     "text": [
      "True\n"
     ]
    }
   ],
   "source": [
    "endpoint=\"http://dbpedia.org/sparql\"\n",
    "resource = \"jacques tati\"\n",
    "resource_uri = build_resource(resource, endpoint)\n",
    "print(is_available(resource_uri, endpoint))\n"
   ]
  },
  {
   "cell_type": "code",
   "execution_count": null,
   "metadata": {
    "collapsed": true,
    "deletable": true,
    "editable": true
   },
   "outputs": [],
   "source": []
  }
 ],
 "metadata": {
  "kernelspec": {
   "display_name": "Python 3",
   "language": "python",
   "name": "python3"
  },
  "language_info": {
   "codemirror_mode": {
    "name": "ipython",
    "version": 3
   },
   "file_extension": ".py",
   "mimetype": "text/x-python",
   "name": "python",
   "nbconvert_exporter": "python",
   "pygments_lexer": "ipython3",
   "version": "3.5.2"
  }
 },
 "nbformat": 4,
 "nbformat_minor": 2
}
